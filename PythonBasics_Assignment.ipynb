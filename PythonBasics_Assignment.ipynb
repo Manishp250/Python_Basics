{
  "nbformat": 4,
  "nbformat_minor": 0,
  "metadata": {
    "colab": {
      "provenance": []
    },
    "kernelspec": {
      "name": "python3",
      "display_name": "Python 3"
    },
    "language_info": {
      "name": "python"
    }
  },
  "cells": [
    {
      "cell_type": "markdown",
      "source": [
        "# Python Basics Questions\n"
      ],
      "metadata": {
        "id": "TofPt0Jj0nSf"
      }
    },
    {
      "cell_type": "markdown",
      "source": [
        "1. What is Python, and why is it popular?\n",
        " * Python is a high-level, interpreted programming language known for its simplicity and readability. It is popular due to its vast library support, versatility, and ease of use in fields like web development, data science, machine learning, and automation.\n",
        "\n",
        "2. What is an interpreter in Python?\n",
        " * An interpreter is a program that executes Python code line by line, converting it into machine-readable instructions.\n",
        "\n",
        "3. 3. What are pre-defined keywords in Python?\n",
        " * Pre-defined keywords in Python, also known as reserved keywords, are words that have special meanings in the language and cannot be used as variable names, function names, or identifiers. These keywords define the syntax and structure of Python programs.\n",
        "\n",
        "4. Can keywords be used as variable names?\n",
        " * No, keywords cannot be used as variable names in Python because they have special meanings in the language.\n",
        "\n",
        "5. What is mutability in Python?\n",
        " * Mutability refers to whether an object can be changed after creation. Mutable objects (e.g., lists) can be modified, while immutable objects (e.g., tuples) cannot.\n",
        "\n",
        "6. Why are lists mutable but tuples are immutable?\n",
        " * Lists allow changes like adding, removing, or modifying elements, while tuples are designed to remain constant for data integrity and efficiency.\n",
        "\n",
        "7. What is the difference between == and is operators in Python?\n",
        " * In Python, the == operator checks whether two objects have the same value, while the is operator checks whether two variables refer to the same object in memory. This means that == evaluates the content of the objects, whereas is compares their memory addresses.\n",
        "  \n",
        "        For example, two lists with identical elements ([1, 2, 3] == [1, 2, 3]) will return True because their contents match, but is will return False because they are stored at different memory locations.\n",
        "\n",
        "8. What are logical operators in Python?\n",
        " * Logical operators in Python are used to evaluate Boolean expressions and control program flow based on conditions. There are three main logical operators: and, or, and not.\n",
        "\n",
        "9. What is type casting in Python?\n",
        " * Type casting in Python refers to the process of converting one data type into another. It allows you to change the type of a value to a different one, enabling operations between different types or ensuring compatibility in a program. There are two main types of type casting: implicit and explicit.\n",
        "\n",
        "10. What is the difference between implicit and explicit type casting?\n",
        " * Implicit type casting, also known as type coercion, happens automatically when Python converts a smaller data type to a larger one. On the other hand, explicit type casting requires the programmer to manually convert one data type to another using built-in functions like int(), float(), or str(). This is useful when you want to ensure that a specific conversion happens, such as when converting a string to an integer.\n",
        "\n",
        "11. What is the purpose of conditional statements in Python?\n",
        " * Conditional statements in Python are used to make decisions in your program. They let you run certain code based on whether a condition is true or false. The main statements are if (checks if a condition is true), elif (checks additional conditions), and else (runs code if no conditions are true). These help your program behave differently in different situations.\n",
        "\n",
        "12. How does the elif statement work?\n",
        " * The elif statement in Python is a way to handle multiple conditions in a structured manner. It stands for \"else if\" and allows you to check multiple conditions sequentially. The elif statement helps make code more readable and efficient rather than using multiple separate if statements.\n",
        "\n",
        "13. What is the difference between for and while loops?\n",
        " * For Loop:\n",
        "\n",
        "     The for loop is used to iterate over a sequence (like a list, tuple, string, or range). It runs a fixed number of times, typically based on the length of the sequence or range.\n",
        "\n",
        " * While Loop:\n",
        "\n",
        "     The while loop runs as long as a condition is True. The number of iterations is not fixed and depends on when the condition becomes False. If the condition is never met, it can lead to an infinite loop.\n",
        "\n",
        "     In short, a for loop is used for iterating over a known sequence, while a while loop runs as long as a condition remains True.\n",
        "\n",
        "14. Describe a scenario where a while loop is more suitable than a for loop.\n",
        " * A while loop is more suitable than a for loop when the number of iterations is not known in advance and depends on a dynamic condition. For example, if you're reading input from a user and need to continue asking for input until the user provides a valid response or decides to stop, a while loop is ideal because it can keep running as long as the condition (valid input or exit condition) is not met."
      ],
      "metadata": {
        "id": "KOS0TGEQTgrz"
      }
    },
    {
      "cell_type": "markdown",
      "source": [
        "# Practical Questions"
      ],
      "metadata": {
        "id": "jO06El8t54ye"
      }
    },
    {
      "cell_type": "markdown",
      "source": [],
      "metadata": {
        "id": "wHXXL0JST0fN"
      }
    },
    {
      "cell_type": "code",
      "source": [
        "# 1. Write a Python program to print \"Hello, World!\"\n",
        "print(\"hello world\")"
      ],
      "metadata": {
        "colab": {
          "base_uri": "https://localhost:8080/"
        },
        "id": "_wEL62yx7WxX",
        "outputId": "ed0351a0-7297-4a31-d96b-16d7c9c9a84a"
      },
      "execution_count": null,
      "outputs": [
        {
          "output_type": "stream",
          "name": "stdout",
          "text": [
            "hello world\n"
          ]
        }
      ]
    },
    {
      "cell_type": "code",
      "source": [
        "# 2. Write a Python program that displays your name and age\n",
        "name = \"manish\"\n",
        "age = \"22\"\n",
        "print(name)\n",
        "print(age)"
      ],
      "metadata": {
        "colab": {
          "base_uri": "https://localhost:8080/"
        },
        "id": "R6A1pt1t6wmJ",
        "outputId": "b02e99fc-d1eb-449d-b21d-41da0b359b64"
      },
      "execution_count": 2,
      "outputs": [
        {
          "output_type": "stream",
          "name": "stdout",
          "text": [
            "manish\n",
            "22\n"
          ]
        }
      ]
    },
    {
      "cell_type": "code",
      "source": [
        "# 3. Write code to print all the pre-defined keywords in Python using the keyword library.\n",
        "help(\"keywords\")"
      ],
      "metadata": {
        "colab": {
          "base_uri": "https://localhost:8080/"
        },
        "id": "7J5G3DsQ7pb8",
        "outputId": "a2f2a312-f4b7-4f99-f2c7-361b9893d511"
      },
      "execution_count": null,
      "outputs": [
        {
          "output_type": "stream",
          "name": "stdout",
          "text": [
            "\n",
            "Here is a list of the Python keywords.  Enter any keyword to get more help.\n",
            "\n",
            "False               class               from                or\n",
            "None                continue            global              pass\n",
            "True                def                 if                  raise\n",
            "and                 del                 import              return\n",
            "as                  elif                in                  try\n",
            "assert              else                is                  while\n",
            "async               except              lambda              with\n",
            "await               finally             nonlocal            yield\n",
            "break               for                 not                 \n",
            "\n"
          ]
        }
      ]
    },
    {
      "cell_type": "code",
      "source": [
        "# 4. Write a program that checks if a given word is a Python keyword.\n",
        "import keyword\n",
        "word = \"if\"\n",
        "if keyword.iskeyword(word):\n",
        "    print(f\"{word} is a keyword\")\n",
        "else:\n",
        "    print(f\"{word} is not a keyword\")\n"
      ],
      "metadata": {
        "colab": {
          "base_uri": "https://localhost:8080/"
        },
        "id": "Iv63d-vH_90z",
        "outputId": "1a6a3899-36ab-44aa-ebbe-8fba633c18cf"
      },
      "execution_count": null,
      "outputs": [
        {
          "output_type": "stream",
          "name": "stdout",
          "text": [
            "if is a keyword\n"
          ]
        }
      ]
    },
    {
      "cell_type": "code",
      "source": [
        " # 5. Create a list and tuple in Python, and demonstrate how attempting to change an element works differently for each.\n",
        "list_cont = [1, 25, 32, 4, 5, 6]\n",
        "list_cont[-1]=100\n",
        "print(list_cont)\n",
        "# tuple_cont = (1, 25, 32, 4, 5, 6)\n",
        "# tuple_cont[-1]=100\n",
        "# print(tuple_cont)\n",
        "# show error"
      ],
      "metadata": {
        "colab": {
          "base_uri": "https://localhost:8080/"
        },
        "id": "JlaydZRXGxG_",
        "outputId": "48895f50-80b8-491f-b310-1fa5b5fd4947"
      },
      "execution_count": null,
      "outputs": [
        {
          "output_type": "stream",
          "name": "stdout",
          "text": [
            "[1, 25, 32, 4, 5, 100]\n"
          ]
        }
      ]
    },
    {
      "cell_type": "code",
      "source": [
        "# 6. Write a function to demonstrate the behavior of mutable and immutable arguments.\n",
        "def modify_list(lst):\n",
        "    lst.append(4)\n",
        "    print(\"Inside function:\", lst)\n",
        "\n",
        "my_list = [1, 2, 3]\n",
        "modify_list(my_list)\n",
        "print(\"Outside function:\", my_list)\n"
      ],
      "metadata": {
        "colab": {
          "base_uri": "https://localhost:8080/"
        },
        "id": "XK2zKaY0G8Ic",
        "outputId": "2442856f-262e-425e-88f8-ad6350cbcfc1"
      },
      "execution_count": null,
      "outputs": [
        {
          "output_type": "stream",
          "name": "stdout",
          "text": [
            "Inside function: [1, 2, 3, 4]\n",
            "Outside function: [1, 2, 3, 4]\n"
          ]
        }
      ]
    },
    {
      "cell_type": "code",
      "source": [
        "# 7. Write a function to demonstrate the behavior of mutable and immutable arguments.\n",
        "def modify_list(lst):\n",
        "    lst.append(4)\n",
        "    print(\"Inside function:\", lst)\n",
        "\n",
        "my_list = [1, 2, 3]\n",
        "modify_list(my_list)\n",
        "print(\"Outside function:\", my_list)"
      ],
      "metadata": {
        "colab": {
          "base_uri": "https://localhost:8080/"
        },
        "id": "XIJJuOUQP_dW",
        "outputId": "64f80885-824e-4364-e2e9-8cf464f2673a"
      },
      "execution_count": null,
      "outputs": [
        {
          "output_type": "stream",
          "name": "stdout",
          "text": [
            "Inside function: [1, 2, 3, 4]\n",
            "Outside function: [1, 2, 3, 4]\n"
          ]
        }
      ]
    },
    {
      "cell_type": "code",
      "source": [
        "# 8. Write a program to demonstrate the use of logical operators\n",
        "a = 10\n",
        "b = 20\n",
        "print(a>b or a<b)\n",
        "print(a>b and a<b)\n"
      ],
      "metadata": {
        "colab": {
          "base_uri": "https://localhost:8080/"
        },
        "id": "lo9gs77EQObb",
        "outputId": "d5cb295f-b1c8-4bd8-8b23-4009a4c62599"
      },
      "execution_count": 30,
      "outputs": [
        {
          "output_type": "stream",
          "name": "stdout",
          "text": [
            "True\n",
            "False\n"
          ]
        }
      ]
    },
    {
      "cell_type": "code",
      "source": [
        "# 9. Write a Python program to convert user input from string to integer, float, and boolean types.\n",
        "\n",
        "string_input = input(\"Enter a string: \")\n",
        "\n",
        "# Check if the input is numeric before converting to int and float\n",
        "if string_input.isnumeric():\n",
        "    int_value = int(string_input)\n",
        "    float_value = float(string_input)\n",
        "    print(\"Integer value:\", int_value)\n",
        "    print(\"Float value:\", float_value)\n",
        "else:\n",
        "    print(\"Cannot convert to integer or float. Input is not numeric.\")\n",
        "\n",
        "# Convert the input to boolean\n",
        "bool_value = bool(string_input)  # Empty strings are False, others are True\n",
        "print(\"Boolean value:\", bool_value)"
      ],
      "metadata": {
        "colab": {
          "base_uri": "https://localhost:8080/"
        },
        "id": "y-PlVgC9SmNM",
        "outputId": "bb8d8a9b-d9b9-4165-8d15-d65fcc72027d"
      },
      "execution_count": 28,
      "outputs": [
        {
          "output_type": "stream",
          "name": "stdout",
          "text": [
            "Enter a string: 50\n",
            "Integer value: 50\n",
            "Float value: 50.0\n",
            "Boolean value: True\n"
          ]
        }
      ]
    },
    {
      "cell_type": "code",
      "source": [
        "# 10. Write code to demonstrate type casting with list elements.\n",
        "list = [1, 5, 20, 50, 44]\n",
        "print(type(list))\n",
        "print(type(str(list)))\n"
      ],
      "metadata": {
        "colab": {
          "base_uri": "https://localhost:8080/"
        },
        "id": "iuoerkqoXJFi",
        "outputId": "713bac50-c901-4c31-b8ae-fe577c8aec26"
      },
      "execution_count": null,
      "outputs": [
        {
          "output_type": "stream",
          "name": "stdout",
          "text": [
            "<class 'list'>\n",
            "<class 'str'>\n"
          ]
        }
      ]
    },
    {
      "cell_type": "code",
      "source": [
        "# 11. Write a program that checks if a number is positive, negative, or zero.\n",
        "#1\n",
        "a = 10\n",
        "if a<0:\n",
        "  print(\"negative\")\n",
        "elif a>0:\n",
        "    print(\"positive\")\n",
        "else:\n",
        "    print(\"zero\")\n",
        "#2\n",
        "a = -10\n",
        "if a<0:\n",
        "  print(\"negative\")\n",
        "elif a>0:\n",
        "    print(\"positive\")\n",
        "else:\n",
        "    print(\"zero\")\n"
      ],
      "metadata": {
        "colab": {
          "base_uri": "https://localhost:8080/"
        },
        "id": "ExRC_3pEaHsE",
        "outputId": "87961909-9396-4852-934d-cdd7ea9bc614"
      },
      "execution_count": null,
      "outputs": [
        {
          "output_type": "stream",
          "name": "stdout",
          "text": [
            "positive\n",
            "negative\n"
          ]
        }
      ]
    },
    {
      "cell_type": "code",
      "source": [
        "# 12. Write a for loop to print numbers from 1 to 10.\n",
        "for i in range (1,10):\n",
        "  print(i)"
      ],
      "metadata": {
        "colab": {
          "base_uri": "https://localhost:8080/"
        },
        "id": "4phRpgyTglUr",
        "outputId": "9a21b5c2-9828-4eda-cf5f-18347396b42b"
      },
      "execution_count": null,
      "outputs": [
        {
          "output_type": "stream",
          "name": "stdout",
          "text": [
            "1\n",
            "2\n",
            "3\n",
            "4\n",
            "5\n",
            "6\n",
            "7\n",
            "8\n",
            "9\n"
          ]
        }
      ]
    },
    {
      "cell_type": "code",
      "source": [
        "# 13. Write a Python program to find the sum of all even numbers between 1 and 50.\n",
        "for i in range(50):\n",
        "  if i % 2 == 0:\n",
        "    print(i)"
      ],
      "metadata": {
        "colab": {
          "base_uri": "https://localhost:8080/"
        },
        "id": "LJnoDcZShCXO",
        "outputId": "b8c7592c-e2da-43e4-8879-42e44ba2cad3"
      },
      "execution_count": null,
      "outputs": [
        {
          "output_type": "stream",
          "name": "stdout",
          "text": [
            "0\n",
            "2\n",
            "4\n",
            "6\n",
            "8\n",
            "10\n",
            "12\n",
            "14\n",
            "16\n",
            "18\n",
            "20\n",
            "22\n",
            "24\n",
            "26\n",
            "28\n",
            "30\n",
            "32\n",
            "34\n",
            "36\n",
            "38\n",
            "40\n",
            "42\n",
            "44\n",
            "46\n",
            "48\n"
          ]
        }
      ]
    },
    {
      "cell_type": "code",
      "source": [
        "# 14. Write a program to reverse a string using a while loop.\n",
        "string = \"hello\"\n",
        "reversed_string = \"\"\n",
        "i = len(string) - 1\n",
        "\n",
        "while i >= 0:\n",
        "  reversed_string += string[i]\n",
        "  i -= 1\n",
        "\n",
        "print(\"Reversed string:\", reversed_string)"
      ],
      "metadata": {
        "colab": {
          "base_uri": "https://localhost:8080/"
        },
        "id": "A-JL2PfAi2NC",
        "outputId": "cec0784e-5fbb-41d9-c3a8-f9ca1176c3c1"
      },
      "execution_count": 29,
      "outputs": [
        {
          "output_type": "stream",
          "name": "stdout",
          "text": [
            "Reversed string: olleh\n"
          ]
        }
      ]
    },
    {
      "cell_type": "code",
      "source": [
        "# 15. Write a Python program to calculate the factorial of a number provided by the user using a while loop.\n",
        "num = int(input(\"Enter a number: \"))\n",
        "\n",
        "factorial = 1\n",
        "if num < 0:\n",
        "  print(\"Factorial is not defined for negative numbers.\")\n",
        "elif num == 0:\n",
        "  print(\"Factorial of 0 is 1\")\n",
        "else:\n",
        "  i = 1\n",
        "  while i <= num:\n",
        "    factorial *= i\n",
        "    i += 1\n",
        "  print(\"Factorial of\", num, \"is\", factorial)"
      ],
      "metadata": {
        "colab": {
          "base_uri": "https://localhost:8080/"
        },
        "id": "KiT5jstlkl3G",
        "outputId": "2323e9ab-970d-4b18-afc3-540d98024f43"
      },
      "execution_count": null,
      "outputs": [
        {
          "output_type": "stream",
          "name": "stdout",
          "text": [
            "Enter a number: 12\n",
            "Factorial of 12 is 479001600\n"
          ]
        }
      ]
    }
  ]
}